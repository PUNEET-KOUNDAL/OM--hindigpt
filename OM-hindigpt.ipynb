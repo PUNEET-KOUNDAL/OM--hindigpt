{
 "cells": [
  {
   "cell_type": "markdown",
   "metadata": {},
   "source": [
    "<a href=\"https://www.kaggle.com/code/puneetkoundal/nanogpt-for-hindi?scriptVersionId=212889729\" target=\"_blank\"><img align=\"left\" alt=\"Kaggle\" title=\"Open in Kaggle\" src=\"https://kaggle.com/static/images/open-in-kaggle.svg\"></a>"
   ]
  },
  {
   "cell_type": "markdown",
   "id": "70343717",
   "metadata": {
    "papermill": {
     "duration": 0.005897,
     "end_time": "2024-12-13T14:32:14.227414",
     "exception": false,
     "start_time": "2024-12-13T14:32:14.221517",
     "status": "completed"
    },
    "tags": []
   },
   "source": []
  },
  {
   "cell_type": "markdown",
   "id": "c35ce7fa",
   "metadata": {
    "papermill": {
     "duration": 0.004364,
     "end_time": "2024-12-13T14:32:14.236724",
     "exception": false,
     "start_time": "2024-12-13T14:32:14.23236",
     "status": "completed"
    },
    "tags": []
   },
   "source": [
    "# objective\n",
    "\n",
    "\"Building NanoGPT from Scratch for Hindi Corpus: Project 'OM'\n",
    "\n",
    "This project involves developing a NanoGPT model from the ground up, specifically designed for processing and generating text in Hindi. The model will be trained on a Hindi corpus to ensure it captures the nuances of the language and produces coherent, contextually appropriate outputs. Named 'OM', this initiative aims to create a lightweight, efficient language model for Hindi NLP tasks."
   ]
  },
  {
   "cell_type": "code",
   "execution_count": 1,
   "id": "048c1b5c",
   "metadata": {
    "_cell_guid": "b1076dfc-b9ad-4769-8c92-a6c4dae69d19",
    "_kg_hide-input": true,
    "_uuid": "8f2839f25d086af736a60e9eeb907d3b93b6e0e5",
    "execution": {
     "iopub.execute_input": "2024-12-13T14:32:14.247924Z",
     "iopub.status.busy": "2024-12-13T14:32:14.247544Z",
     "iopub.status.idle": "2024-12-13T14:32:15.18125Z",
     "shell.execute_reply": "2024-12-13T14:32:15.17973Z"
    },
    "papermill": {
     "duration": 0.942341,
     "end_time": "2024-12-13T14:32:15.18374",
     "exception": false,
     "start_time": "2024-12-13T14:32:14.241399",
     "status": "completed"
    },
    "tags": []
   },
   "outputs": [
    {
     "ename": "ModuleNotFoundError",
     "evalue": "No module named 'numpy'",
     "output_type": "error",
     "traceback": [
      "\u001b[1;31m---------------------------------------------------------------------------\u001b[0m",
      "\u001b[1;31mModuleNotFoundError\u001b[0m                       Traceback (most recent call last)",
      "Cell \u001b[1;32mIn[1], line 5\u001b[0m\n\u001b[0;32m      1\u001b[0m \u001b[38;5;66;03m# This Python 3 environment comes with many helpful analytics libraries installed\u001b[39;00m\n\u001b[0;32m      2\u001b[0m \u001b[38;5;66;03m# It is defined by the kaggle/python Docker image: https://github.com/kaggle/docker-python\u001b[39;00m\n\u001b[0;32m      3\u001b[0m \u001b[38;5;66;03m# For example, here's several helpful packages to load\u001b[39;00m\n\u001b[1;32m----> 5\u001b[0m \u001b[38;5;28;01mimport\u001b[39;00m\u001b[38;5;250m \u001b[39m\u001b[38;5;21;01mnumpy\u001b[39;00m\u001b[38;5;250m \u001b[39m\u001b[38;5;28;01mas\u001b[39;00m\u001b[38;5;250m \u001b[39m\u001b[38;5;21;01mnp\u001b[39;00m \u001b[38;5;66;03m# linear algebra\u001b[39;00m\n\u001b[0;32m      6\u001b[0m \u001b[38;5;28;01mimport\u001b[39;00m\u001b[38;5;250m \u001b[39m\u001b[38;5;21;01mpandas\u001b[39;00m\u001b[38;5;250m \u001b[39m\u001b[38;5;28;01mas\u001b[39;00m\u001b[38;5;250m \u001b[39m\u001b[38;5;21;01mpd\u001b[39;00m \u001b[38;5;66;03m# data processing, CSV file I/O (e.g. pd.read_csv)\u001b[39;00m\n\u001b[0;32m      8\u001b[0m \u001b[38;5;66;03m# Input data files are available in the read-only \"../input/\" directory\u001b[39;00m\n\u001b[0;32m      9\u001b[0m \u001b[38;5;66;03m# For example, running this (by clicking run or pressing Shift+Enter) will list all files under the input directory\u001b[39;00m\n",
      "\u001b[1;31mModuleNotFoundError\u001b[0m: No module named 'numpy'"
     ]
    }
   ],
   "source": [
    "# This Python 3 environment comes with many helpful analytics libraries installed\n",
    "# It is defined by the kaggle/python Docker image: https://github.com/kaggle/docker-python\n",
    "# For example, here's several helpful packages to load\n",
    "\n",
    "import numpy as np # linear algebra\n",
    "import pandas as pd # data processing, CSV file I/O (e.g. pd.read_csv)\n",
    "\n",
    "# Input data files are available in the read-only \"../input/\" directory\n",
    "# For example, running this (by clicking run or pressing Shift+Enter) will list all files under the input directory\n",
    "\n",
    "import os\n",
    "for dirname, _, filenames in os.walk('/kaggle/input'):\n",
    "    for filename in filenames:\n",
    "        print(os.path.join(dirname, filename))\n",
    "\n",
    "# You can write up to 20GB to the current directory (/kaggle/working/) that gets preserved as output when you create a version using \"Save & Run All\" \n",
    "# You can also write temporary files to /kaggle/temp/, but they won't be saved outside of the current session"
   ]
  },
  {
   "cell_type": "markdown",
   "id": "ba27988f",
   "metadata": {
    "papermill": {
     "duration": 0.006072,
     "end_time": "2024-12-13T14:32:15.195192",
     "exception": false,
     "start_time": "2024-12-13T14:32:15.18912",
     "status": "completed"
    },
    "tags": []
   },
   "source": [
    "# data preparation "
   ]
  },
  {
   "cell_type": "code",
   "execution_count": 2,
   "id": "78ef4866",
   "metadata": {
    "execution": {
     "iopub.execute_input": "2024-12-13T14:32:15.206664Z",
     "iopub.status.busy": "2024-12-13T14:32:15.206134Z",
     "iopub.status.idle": "2024-12-13T14:32:15.412344Z",
     "shell.execute_reply": "2024-12-13T14:32:15.411162Z"
    },
    "papermill": {
     "duration": 0.214527,
     "end_time": "2024-12-13T14:32:15.414645",
     "exception": false,
     "start_time": "2024-12-13T14:32:15.200118",
     "status": "completed"
    },
    "tags": []
   },
   "outputs": [
    {
     "name": "stdout",
     "output_type": "stream",
     "text": [
      "the length of chracters dataset 4025422\n"
     ]
    }
   ],
   "source": [
    "with open('/kaggle/input/mini-hindi-corpus/combo.txt','r',encoding='utf-8') as f :\n",
    "    text=f.read()\n",
    "\n",
    "print(f\"the length of chracters dataset {len(text)}\")"
   ]
  },
  {
   "cell_type": "code",
   "execution_count": 3,
   "id": "ee5bedc4",
   "metadata": {
    "execution": {
     "iopub.execute_input": "2024-12-13T14:32:15.426798Z",
     "iopub.status.busy": "2024-12-13T14:32:15.426414Z",
     "iopub.status.idle": "2024-12-13T14:32:15.431478Z",
     "shell.execute_reply": "2024-12-13T14:32:15.43046Z"
    },
    "papermill": {
     "duration": 0.014215,
     "end_time": "2024-12-13T14:32:15.434471",
     "exception": false,
     "start_time": "2024-12-13T14:32:15.420256",
     "status": "completed"
    },
    "tags": []
   },
   "outputs": [
    {
     "name": "stdout",
     "output_type": "stream",
     "text": [
      "\n",
      "आभूषणों की निंदा करना हमारा उद्देश्य नहीं है \n",
      " हम असहयोग का उत्पीड़न सह सकते हैं पर ललनाओं के निर्दय घातक वाक्बाणों को नहीं ओढ़ सकते \n",
      " तो भी इतना अवश्य कहेंगे कि इस तृष्णा की पूर्ति के लिए जितना त्याग किया जाता है उसका सदुपयोग करने से महान् पद प्राप्त हो सकता है\n",
      "यद्यपि हमने किसी रूप हीना महिला को आभूषणों की सजावट से रूपवती होते नहीं देखा तथापि हम यह भी मान लेते हैं कि रूप के लिए आभूषणों की उतनी ही जरूरत है जितनी घर के लिए दीपक की \n",
      " किन्तु शारीरिक शोभा के लिए हम तन को कितना मलिन चित्त को कितना अशांत और आत्मा को कितना कलुषित बना लेते हैं इसका हमें कदाचित् ज्ञान ही नहीं होता \n",
      " इस दीपक की ज्योति में आँखें धुँधली हो जाती हैं \n",
      " यह चमक दमक कितनी ईर्ष्या कितने द्वेष कितनी प्रतिस्पर्धा कितनी दुश्चिंता और कितनी दुराशा का कारण है इसकी केवल कल्पना से ही रोंगटे खड़े हो जाते हैं \n",
      " इन्हें भूषण नहीं दूषण कहना अधिक उपयुक्त है \n",
      " नहीं तो यह कब हो सकता था कि कोई नववधू पति के घर आने के तीसरे दिन अपने पति से कहती कि मेरे पिता ने तुम्हारे पल्ले बाँध कर मुझे तो कुएँ में ढकेल दिया \n",
      " शीतला आज अपने गाँव के ताल्लुक\n"
     ]
    }
   ],
   "source": [
    "#checking first 1000 text\n",
    "print(text[:1000])"
   ]
  },
  {
   "cell_type": "code",
   "execution_count": 4,
   "id": "091d58cf",
   "metadata": {
    "execution": {
     "iopub.execute_input": "2024-12-13T14:32:15.446067Z",
     "iopub.status.busy": "2024-12-13T14:32:15.445689Z",
     "iopub.status.idle": "2024-12-13T14:32:15.472551Z",
     "shell.execute_reply": "2024-12-13T14:32:15.471279Z"
    },
    "papermill": {
     "duration": 0.035369,
     "end_time": "2024-12-13T14:32:15.474786",
     "exception": false,
     "start_time": "2024-12-13T14:32:15.439417",
     "status": "completed"
    },
    "tags": []
   },
   "outputs": [
    {
     "name": "stdout",
     "output_type": "stream",
     "text": [
      "आभूषणों की निंदा करना हमारा उद्देश्य नहीं है \n"
     ]
    }
   ],
   "source": [
    "#from uppar code we get confuse how code is calculation len of text\n",
    "lines = text.split('\\n')\n",
    "second_row = lines[1]\n",
    "print(second_row)  "
   ]
  },
  {
   "cell_type": "code",
   "execution_count": 5,
   "id": "745b8dc6",
   "metadata": {
    "execution": {
     "iopub.execute_input": "2024-12-13T14:32:15.486524Z",
     "iopub.status.busy": "2024-12-13T14:32:15.486112Z",
     "iopub.status.idle": "2024-12-13T14:32:15.492425Z",
     "shell.execute_reply": "2024-12-13T14:32:15.490916Z"
    },
    "papermill": {
     "duration": 0.014919,
     "end_time": "2024-12-13T14:32:15.494791",
     "exception": false,
     "start_time": "2024-12-13T14:32:15.479872",
     "status": "completed"
    },
    "tags": []
   },
   "outputs": [
    {
     "name": "stdout",
     "output_type": "stream",
     "text": [
      "45\n"
     ]
    }
   ],
   "source": [
    "print(len(second_row))"
   ]
  },
  {
   "cell_type": "code",
   "execution_count": 6,
   "id": "0f78a8b8",
   "metadata": {
    "execution": {
     "iopub.execute_input": "2024-12-13T14:32:15.506796Z",
     "iopub.status.busy": "2024-12-13T14:32:15.506396Z",
     "iopub.status.idle": "2024-12-13T14:32:15.512041Z",
     "shell.execute_reply": "2024-12-13T14:32:15.511003Z"
    },
    "papermill": {
     "duration": 0.014283,
     "end_time": "2024-12-13T14:32:15.514269",
     "exception": false,
     "start_time": "2024-12-13T14:32:15.499986",
     "status": "completed"
    },
    "tags": []
   },
   "outputs": [
    {
     "name": "stdout",
     "output_type": "stream",
     "text": [
      "\n",
      "आभूषणों\n"
     ]
    }
   ],
   "source": [
    "print(text[:8])"
   ]
  },
  {
   "cell_type": "code",
   "execution_count": 7,
   "id": "c8f1c692",
   "metadata": {
    "execution": {
     "iopub.execute_input": "2024-12-13T14:32:15.526511Z",
     "iopub.status.busy": "2024-12-13T14:32:15.526111Z",
     "iopub.status.idle": "2024-12-13T14:32:15.531835Z",
     "shell.execute_reply": "2024-12-13T14:32:15.53075Z"
    },
    "papermill": {
     "duration": 0.01484,
     "end_time": "2024-12-13T14:32:15.53429",
     "exception": false,
     "start_time": "2024-12-13T14:32:15.51945",
     "status": "completed"
    },
    "tags": []
   },
   "outputs": [
    {
     "name": "stdout",
     "output_type": "stream",
     "text": [
      "8\n"
     ]
    }
   ],
   "source": [
    "print(len(text[:8]))"
   ]
  },
  {
   "cell_type": "code",
   "execution_count": 8,
   "id": "00d179da",
   "metadata": {
    "execution": {
     "iopub.execute_input": "2024-12-13T14:32:15.546795Z",
     "iopub.status.busy": "2024-12-13T14:32:15.546423Z",
     "iopub.status.idle": "2024-12-13T14:32:15.762999Z",
     "shell.execute_reply": "2024-12-13T14:32:15.761676Z"
    },
    "papermill": {
     "duration": 0.225557,
     "end_time": "2024-12-13T14:32:15.765264",
     "exception": false,
     "start_time": "2024-12-13T14:32:15.539707",
     "status": "completed"
    },
    "tags": []
   },
   "outputs": [
    {
     "name": "stdout",
     "output_type": "stream",
     "text": [
      "['\\n', '\\x1a', ' ', '\\xa0', '²', '×', 'ò', 'ú', 'ँ', 'ं', 'ः', 'अ', 'आ', 'इ', 'ई', 'उ', 'ऊ', 'ऋ', 'ऍ', 'ऎ', 'ए', 'ऐ', 'ऑ', 'ओ', 'औ', 'क', 'ख', 'ग', 'घ', 'ङ', 'च', 'छ', 'ज', 'झ', 'ञ', 'ट', 'ठ', 'ड', 'ढ', 'ण', 'त', 'थ', 'द', 'ध', 'न', 'ऩ', 'प', 'फ', 'ब', 'भ', 'म', 'य', 'र', 'ऱ', 'ल', 'ळ', 'व', 'श', 'ष', 'स', 'ह', '़', 'ा', 'ि', 'ी', 'ु', 'ू', 'ृ', 'ॅ', 'े', 'ै', 'ॉ', 'ो', 'ौ', '्', 'क़', 'ख़', 'ग़', 'ज़', 'ड़', 'ढ़', 'फ़', 'य़', 'ॠ', 'ॢ', '॥', '०', '१', '२', '३', '४', '५', '६', '७', '८', '९', '\\u200c', '\\u200d', '–', '—', '“', '”', '…']\n",
      "103\n"
     ]
    }
   ],
   "source": [
    "chars=sorted(list(set(text)))\n",
    "vocal_size=len(chars)\n",
    "print(chars)\n",
    "print(vocal_size)"
   ]
  },
  {
   "cell_type": "markdown",
   "id": "018020ac",
   "metadata": {
    "papermill": {
     "duration": 0.005013,
     "end_time": "2024-12-13T14:32:15.775531",
     "exception": false,
     "start_time": "2024-12-13T14:32:15.770518",
     "status": "completed"
    },
    "tags": []
   },
   "source": [
    "# tokenization"
   ]
  },
  {
   "cell_type": "code",
   "execution_count": 9,
   "id": "d30151bd",
   "metadata": {
    "execution": {
     "iopub.execute_input": "2024-12-13T14:32:15.787518Z",
     "iopub.status.busy": "2024-12-13T14:32:15.78711Z",
     "iopub.status.idle": "2024-12-13T14:32:15.793518Z",
     "shell.execute_reply": "2024-12-13T14:32:15.792449Z"
    },
    "papermill": {
     "duration": 0.014993,
     "end_time": "2024-12-13T14:32:15.795601",
     "exception": false,
     "start_time": "2024-12-13T14:32:15.780608",
     "status": "completed"
    },
    "tags": []
   },
   "outputs": [],
   "source": [
    "# Assuming `chars` is a list of characters in your vocabulary\n",
    "stoi = {ch: i for i, ch in enumerate(chars)}\n",
    "itos = {i: ch for i, ch in enumerate(chars)}\n",
    "\n",
    "# Function to encode a string into a list of integers\n",
    "encode = lambda s: [stoi[c] for c in s]\n",
    "\n",
    "# Function to decode a list of integers back into a string\n",
    "decode = lambda l: ''.join(itos[i] for i in l)\n"
   ]
  },
  {
   "cell_type": "code",
   "execution_count": 10,
   "id": "ac3769c7",
   "metadata": {
    "execution": {
     "iopub.execute_input": "2024-12-13T14:32:15.807948Z",
     "iopub.status.busy": "2024-12-13T14:32:15.807436Z",
     "iopub.status.idle": "2024-12-13T14:32:15.813557Z",
     "shell.execute_reply": "2024-12-13T14:32:15.812381Z"
    },
    "papermill": {
     "duration": 0.015251,
     "end_time": "2024-12-13T14:32:15.816155",
     "exception": false,
     "start_time": "2024-12-13T14:32:15.800904",
     "status": "completed"
    },
    "tags": []
   },
   "outputs": [
    {
     "name": "stdout",
     "output_type": "stream",
     "text": [
      "[13, 44, 74, 60, 69, 9, 2, 49, 66, 58, 39, 2, 44, 60, 64, 9, 2, 42, 66, 58, 39, 2, 25, 60, 44, 62, 2, 11, 43, 63, 25, 2, 15, 46, 51, 65, 25, 74, 40, 2, 60, 70]\n",
      "इन्हें भूषण नहीं दूषण कहना अधिक उपयुक्त है\n"
     ]
    }
   ],
   "source": [
    "print(encode(\"इन्हें भूषण नहीं दूषण कहना अधिक उपयुक्त है\"))\n",
    "print(decode(encode(\"इन्हें भूषण नहीं दूषण कहना अधिक उपयुक्त है\")))"
   ]
  },
  {
   "cell_type": "code",
   "execution_count": 11,
   "id": "821b2262",
   "metadata": {
    "execution": {
     "iopub.execute_input": "2024-12-13T14:32:15.828983Z",
     "iopub.status.busy": "2024-12-13T14:32:15.828001Z",
     "iopub.status.idle": "2024-12-13T14:32:15.832548Z",
     "shell.execute_reply": "2024-12-13T14:32:15.831485Z"
    },
    "papermill": {
     "duration": 0.013051,
     "end_time": "2024-12-13T14:32:15.834631",
     "exception": false,
     "start_time": "2024-12-13T14:32:15.82158",
     "status": "completed"
    },
    "tags": []
   },
   "outputs": [],
   "source": [
    "#did normalization work \n",
    "#let see in further labs"
   ]
  },
  {
   "cell_type": "code",
   "execution_count": 12,
   "id": "28a1cd4f",
   "metadata": {
    "execution": {
     "iopub.execute_input": "2024-12-13T14:32:15.84716Z",
     "iopub.status.busy": "2024-12-13T14:32:15.846747Z",
     "iopub.status.idle": "2024-12-13T14:32:20.104971Z",
     "shell.execute_reply": "2024-12-13T14:32:20.103392Z"
    },
    "papermill": {
     "duration": 4.26833,
     "end_time": "2024-12-13T14:32:20.108481",
     "exception": false,
     "start_time": "2024-12-13T14:32:15.840151",
     "status": "completed"
    },
    "tags": []
   },
   "outputs": [
    {
     "name": "stdout",
     "output_type": "stream",
     "text": [
      "torch.Size([4025422]) torch.int64\n",
      "tensor([ 0, 12, 49, 66, 58, 39, 72,  9,  2, 25, 64,  2, 44, 63,  9, 42, 62,  2,\n",
      "        25, 52, 44, 62,  2, 60, 50, 62, 52, 62,  2, 15, 42, 74, 42, 69, 57, 74,\n",
      "        51,  2, 44, 60, 64,  9,  2, 60, 70,  2,  0,  2, 60, 50,  2, 11, 59, 60,\n",
      "        51, 72, 27,  2, 25, 62,  2, 15, 40, 74, 46, 64, 79, 44,  2, 59, 60,  2,\n",
      "        59, 25, 40, 69,  2, 60, 70,  9,  2, 46, 52,  2, 54, 54, 44, 62, 23,  9,\n",
      "         2, 25, 69,  2, 44, 63, 52, 74, 42, 51,  2, 28, 62, 40, 25,  2, 56, 62,\n",
      "        25, 74, 48, 62, 39, 72,  9,  2, 25, 72,  2, 44, 60, 64,  9,  2, 23, 80,\n",
      "         2, 59, 25, 40, 69,  2,  0,  2, 40, 72,  2, 49, 64,  2, 13, 40, 44, 62,\n",
      "         2, 11, 56, 57, 74, 51,  2, 25, 60, 69,  9, 27, 69,  2, 25, 63,  2, 13,\n",
      "        59,  2, 40, 67, 58, 74, 39, 62,  2, 25, 64,  2, 46, 66, 52, 74, 40, 63,\n",
      "         2, 25, 69,  2, 54, 63, 20,  2, 32, 63, 40, 44, 62,  2, 40, 74, 51, 62,\n",
      "        27,  2, 25, 63, 51, 62,  2, 32, 62, 40, 62,  2, 60, 70,  2, 15, 59, 25,\n",
      "        62,  2, 59, 42, 65, 46, 51, 72, 27,  2, 25, 52, 44, 69,  2, 59, 69,  2,\n",
      "        50, 60, 62, 44, 74,  2, 46, 42,  2, 46, 74, 52, 62, 46, 74, 40,  2, 60,\n",
      "        72,  2, 59, 25, 40, 62,  2, 60, 70,  0, 51, 42, 74, 51, 46, 63,  2, 60,\n",
      "        50, 44, 69,  2, 25, 63, 59, 64,  2, 52, 66, 46,  2, 60, 64, 44, 62,  2,\n",
      "        50, 60, 63, 54, 62,  2, 25, 72,  2, 12, 49, 66, 58, 39, 72,  9,  2, 25,\n",
      "        64,  2, 59, 32, 62, 56, 35,  2, 59, 69,  2, 52, 66, 46, 56, 40, 64,  2,\n",
      "        60, 72, 40, 69,  2, 44, 60, 64,  9,  2, 42, 69, 26, 62,  2, 40, 41, 62,\n",
      "        46, 63,  2, 60, 50,  2, 51, 60,  2, 49, 64,  2, 50, 62, 44,  2, 54, 69,\n",
      "        40, 69,  2, 60, 70,  9,  2, 25, 63,  2, 52, 66, 46,  2, 25, 69,  2, 54,\n",
      "        63, 20,  2, 12, 49, 66, 58, 39, 72,  9,  2, 25, 64,  2, 15, 40, 44, 64,\n",
      "         2, 60, 64,  2, 32, 52, 66, 52, 40,  2, 60, 70,  2, 32, 63, 40, 44, 64,\n",
      "         2, 28, 52,  2, 25, 69,  2, 54, 63, 20,  2, 42, 64, 46, 25,  2, 25, 64,\n",
      "         2,  0,  2, 25, 63, 44, 74, 40, 65,  2, 57, 62, 52, 64, 52, 63, 25,  2,\n",
      "        57, 72, 49, 62,  2, 25, 69,  2, 54, 63, 20,  2, 60, 50,  2, 40, 44,  2,\n",
      "        25, 72,  2, 25, 63, 40, 44, 62,  2, 50, 54, 63, 44,  2, 30, 63, 40, 74,\n",
      "        40,  2, 25, 72,  2, 25, 63, 40, 44, 62,  2, 11, 57, 62,  9, 40,  2, 24,\n",
      "        52,  2, 12, 40, 74, 50, 62,  2, 25, 72,  2, 25, 63, 40, 44, 62,  2, 25,\n",
      "        54, 65, 58, 63, 40,  2, 48, 44, 62,  2, 54, 69, 40, 69,  2, 60, 70,  9,\n",
      "         2, 13, 59, 25, 62,  2, 60, 50, 69,  9,  2, 25, 42, 62, 30, 63, 40, 74,\n",
      "         2, 32, 74, 34, 62, 44,  2, 60, 64,  2, 44, 60, 64,  9,  2, 60, 72, 40,\n",
      "        62,  2,  0,  2, 13, 59,  2, 42, 64, 46, 25,  2, 25, 64,  2, 32, 74, 51,\n",
      "        72, 40, 63,  2, 50, 69,  9,  2, 12,  8, 26, 69,  9,  2, 43, 65,  8, 43,\n",
      "        54, 64,  2, 60, 72,  2, 32, 62, 40, 64,  2, 60, 70,  9,  2,  0,  2, 51,\n",
      "        60,  2, 30, 50, 25,  2, 42, 50, 25,  2, 25, 63, 40, 44, 64,  2, 14, 52,\n",
      "        74, 58, 74, 51, 62,  2, 25, 63, 40, 44, 69,  2, 42, 74, 56, 69, 58,  2,\n",
      "        25, 63, 40, 44, 64,  2, 46, 74, 52, 40, 63, 59, 74, 46, 52, 74, 43, 62,\n",
      "         2, 25, 63, 40, 44, 64,  2, 42, 65, 57, 74, 30, 63,  9, 40, 62,  2, 24,\n",
      "        52,  2, 25, 63, 40, 44, 64,  2, 42, 65, 52, 62, 57, 62,  2, 25, 62,  2,\n",
      "        25, 62, 52, 39,  2, 60, 70,  2, 13, 59, 25, 64,  2, 25, 69, 56, 54,  2,\n",
      "        25, 54, 74, 46, 44, 62,  2, 59, 69,  2, 60, 64,  2, 52, 72,  9, 27, 35,\n",
      "        69,  2, 26, 79, 69,  2, 60, 72,  2, 32, 62, 40, 69,  2, 60, 70,  9,  2,\n",
      "         0,  2, 13, 44, 74, 60, 69,  9,  2, 49, 66, 58, 39,  2, 44, 60, 64,  9,\n",
      "         2, 42, 66, 58, 39,  2, 25, 60, 44, 62,  2, 11, 43, 63, 25,  2, 15, 46,\n",
      "        51, 65, 25, 74, 40,  2, 60, 70,  2,  0,  2, 44, 60, 64,  9,  2, 40, 72,\n",
      "         2, 51, 60,  2, 25, 48,  2, 60, 72,  2, 59, 25, 40, 62,  2, 41, 62,  2,\n",
      "        25, 63,  2, 25, 72, 14,  2, 44, 56, 56, 43, 66,  2, 46, 40, 63,  2, 25,\n",
      "        69,  2, 28, 52,  2, 12, 44, 69,  2, 25, 69,  2, 40, 64, 59, 52, 69,  2,\n",
      "        42, 63, 44,  2, 11, 46, 44, 69,  2, 46, 40, 63,  2, 59, 69,  2, 25, 60,\n",
      "        40, 64,  2, 25, 63,  2, 50, 69, 52, 69,  2, 46, 63, 40, 62,  2, 44, 69,\n",
      "         2, 40, 65, 50, 74, 60, 62, 52, 69,  2, 46, 54, 74, 54, 69,  2, 48, 62,\n",
      "         8, 43,  2, 25, 52,  2, 50, 65, 33, 69,  2, 40, 72,  2, 25, 65, 20,  8,\n",
      "         2, 50, 69,  9,  2, 38, 25, 69, 54,  2, 42, 63, 51, 62,  2,  0,  2, 57,\n",
      "        64, 40, 54, 62,  2, 12, 32,  2, 11, 46, 44, 69,  2, 27, 62,  8, 56,  2,\n",
      "        25, 69,  2, 40, 62, 54, 74, 54, 65, 25])\n"
     ]
    }
   ],
   "source": [
    "import torch \n",
    "data=torch.tensor(encode(text) , dtype=torch.long)\n",
    "print(data.shape,data.dtype)\n",
    "print(data[:1000])"
   ]
  },
  {
   "cell_type": "markdown",
   "id": "4e69f009",
   "metadata": {
    "papermill": {
     "duration": 0.006797,
     "end_time": "2024-12-13T14:32:20.127265",
     "exception": false,
     "start_time": "2024-12-13T14:32:20.120468",
     "status": "completed"
    },
    "tags": []
   },
   "source": [
    "# testsplit"
   ]
  },
  {
   "cell_type": "code",
   "execution_count": 13,
   "id": "f7afac15",
   "metadata": {
    "execution": {
     "iopub.execute_input": "2024-12-13T14:32:20.142742Z",
     "iopub.status.busy": "2024-12-13T14:32:20.141964Z",
     "iopub.status.idle": "2024-12-13T14:32:20.150724Z",
     "shell.execute_reply": "2024-12-13T14:32:20.149308Z"
    },
    "papermill": {
     "duration": 0.020742,
     "end_time": "2024-12-13T14:32:20.154638",
     "exception": false,
     "start_time": "2024-12-13T14:32:20.133896",
     "status": "completed"
    },
    "tags": []
   },
   "outputs": [],
   "source": [
    "n=int(0.9*len(data))\n",
    "train_data=data[:n]\n",
    "val_data=data[n:]"
   ]
  },
  {
   "cell_type": "code",
   "execution_count": 14,
   "id": "e6e865cc",
   "metadata": {
    "execution": {
     "iopub.execute_input": "2024-12-13T14:32:20.171376Z",
     "iopub.status.busy": "2024-12-13T14:32:20.170718Z",
     "iopub.status.idle": "2024-12-13T14:32:20.182108Z",
     "shell.execute_reply": "2024-12-13T14:32:20.18098Z"
    },
    "papermill": {
     "duration": 0.02293,
     "end_time": "2024-12-13T14:32:20.185953",
     "exception": false,
     "start_time": "2024-12-13T14:32:20.163023",
     "status": "completed"
    },
    "tags": []
   },
   "outputs": [
    {
     "data": {
      "text/plain": [
       "tensor([ 0, 12, 49, 66, 58, 39, 72,  9,  2])"
      ]
     },
     "execution_count": 14,
     "metadata": {},
     "output_type": "execute_result"
    }
   ],
   "source": [
    "block_size=9\n",
    "train_data[:block_size]"
   ]
  },
  {
   "cell_type": "code",
   "execution_count": 15,
   "id": "27640099",
   "metadata": {
    "execution": {
     "iopub.execute_input": "2024-12-13T14:32:20.207512Z",
     "iopub.status.busy": "2024-12-13T14:32:20.207098Z",
     "iopub.status.idle": "2024-12-13T14:32:20.223102Z",
     "shell.execute_reply": "2024-12-13T14:32:20.221207Z"
    },
    "papermill": {
     "duration": 0.031723,
     "end_time": "2024-12-13T14:32:20.22787",
     "exception": false,
     "start_time": "2024-12-13T14:32:20.196147",
     "status": "completed"
    },
    "tags": []
   },
   "outputs": [
    {
     "name": "stdout",
     "output_type": "stream",
     "text": [
      "when the input is tensor([0]) the targer: 12\n",
      "when the input is tensor([ 0, 12]) the targer: 49\n",
      "when the input is tensor([ 0, 12, 49]) the targer: 66\n",
      "when the input is tensor([ 0, 12, 49, 66]) the targer: 58\n",
      "when the input is tensor([ 0, 12, 49, 66, 58]) the targer: 39\n",
      "when the input is tensor([ 0, 12, 49, 66, 58, 39]) the targer: 72\n",
      "when the input is tensor([ 0, 12, 49, 66, 58, 39, 72]) the targer: 9\n",
      "when the input is tensor([ 0, 12, 49, 66, 58, 39, 72,  9]) the targer: 2\n",
      "when the input is tensor([ 0, 12, 49, 66, 58, 39, 72,  9,  2]) the targer: 25\n"
     ]
    }
   ],
   "source": [
    "x=train_data[:block_size]\n",
    "y=train_data[1:block_size+1]\n",
    "for t in range (block_size):\n",
    "    contex=x[:t+1]\n",
    "    target=y[t]\n",
    "    print(f\"when the input is {contex} the targer: {target}\")"
   ]
  },
  {
   "cell_type": "code",
   "execution_count": 16,
   "id": "24c7a1d1",
   "metadata": {
    "execution": {
     "iopub.execute_input": "2024-12-13T14:32:20.244445Z",
     "iopub.status.busy": "2024-12-13T14:32:20.244Z",
     "iopub.status.idle": "2024-12-13T14:32:20.289341Z",
     "shell.execute_reply": "2024-12-13T14:32:20.288121Z"
    },
    "papermill": {
     "duration": 0.055093,
     "end_time": "2024-12-13T14:32:20.291945",
     "exception": false,
     "start_time": "2024-12-13T14:32:20.236852",
     "status": "completed"
    },
    "tags": []
   },
   "outputs": [
    {
     "name": "stdout",
     "output_type": "stream",
     "text": [
      "inputs:\n",
      "torch.Size([6, 10])\n",
      "tensor([[ 2, 25, 52,  2, 78, 50, 64, 44,  2, 46],\n",
      "        [46, 37, 61,  2, 52, 60, 40, 62,  2,  2],\n",
      "        [59, 25, 40, 69,  2, 60, 70,  9,  0, 52],\n",
      "        [64,  2, 51, 60,  2, 25, 63,  2, 25, 63],\n",
      "        [44, 62,  2, 30, 62, 60, 40, 69,  0, 11],\n",
      "        [ 2, 46, 66, 31,  2, 54, 69, 44, 62,  2]])\n",
      "targets:\n",
      "torch.Size([6, 10])\n",
      "tensor([[25, 52,  2, 78, 50, 64, 44,  2, 46, 52],\n",
      "        [37, 61,  2, 52, 60, 40, 62,  2,  2, 32],\n",
      "        [25, 40, 69,  2, 60, 70,  9,  0, 52, 63],\n",
      "        [ 2, 51, 60,  2, 25, 63,  2, 25, 63, 59],\n",
      "        [62,  2, 30, 62, 60, 40, 69,  0, 11, 54],\n",
      "        [46, 66, 31,  2, 54, 69, 44, 62,  2, 30]])\n",
      "when input is [2] the target : 25\n",
      "when input is [2, 25] the target : 52\n",
      "when input is [2, 25, 52] the target : 2\n",
      "when input is [2, 25, 52, 2] the target : 78\n",
      "when input is [2, 25, 52, 2, 78] the target : 50\n",
      "when input is [2, 25, 52, 2, 78, 50] the target : 64\n",
      "when input is [2, 25, 52, 2, 78, 50, 64] the target : 44\n",
      "when input is [2, 25, 52, 2, 78, 50, 64, 44] the target : 2\n",
      "when input is [2, 25, 52, 2, 78, 50, 64, 44, 2] the target : 46\n",
      "when input is [2, 25, 52, 2, 78, 50, 64, 44, 2, 46] the target : 52\n",
      "when input is [46] the target : 37\n",
      "when input is [46, 37] the target : 61\n",
      "when input is [46, 37, 61] the target : 2\n",
      "when input is [46, 37, 61, 2] the target : 52\n",
      "when input is [46, 37, 61, 2, 52] the target : 60\n",
      "when input is [46, 37, 61, 2, 52, 60] the target : 40\n",
      "when input is [46, 37, 61, 2, 52, 60, 40] the target : 62\n",
      "when input is [46, 37, 61, 2, 52, 60, 40, 62] the target : 2\n",
      "when input is [46, 37, 61, 2, 52, 60, 40, 62, 2] the target : 2\n",
      "when input is [46, 37, 61, 2, 52, 60, 40, 62, 2, 2] the target : 32\n",
      "when input is [59] the target : 25\n",
      "when input is [59, 25] the target : 40\n",
      "when input is [59, 25, 40] the target : 69\n",
      "when input is [59, 25, 40, 69] the target : 2\n",
      "when input is [59, 25, 40, 69, 2] the target : 60\n",
      "when input is [59, 25, 40, 69, 2, 60] the target : 70\n",
      "when input is [59, 25, 40, 69, 2, 60, 70] the target : 9\n",
      "when input is [59, 25, 40, 69, 2, 60, 70, 9] the target : 0\n",
      "when input is [59, 25, 40, 69, 2, 60, 70, 9, 0] the target : 52\n",
      "when input is [59, 25, 40, 69, 2, 60, 70, 9, 0, 52] the target : 63\n",
      "when input is [64] the target : 2\n",
      "when input is [64, 2] the target : 51\n",
      "when input is [64, 2, 51] the target : 60\n",
      "when input is [64, 2, 51, 60] the target : 2\n",
      "when input is [64, 2, 51, 60, 2] the target : 25\n",
      "when input is [64, 2, 51, 60, 2, 25] the target : 63\n",
      "when input is [64, 2, 51, 60, 2, 25, 63] the target : 2\n",
      "when input is [64, 2, 51, 60, 2, 25, 63, 2] the target : 25\n",
      "when input is [64, 2, 51, 60, 2, 25, 63, 2, 25] the target : 63\n",
      "when input is [64, 2, 51, 60, 2, 25, 63, 2, 25, 63] the target : 59\n",
      "when input is [44] the target : 62\n",
      "when input is [44, 62] the target : 2\n",
      "when input is [44, 62, 2] the target : 30\n",
      "when input is [44, 62, 2, 30] the target : 62\n",
      "when input is [44, 62, 2, 30, 62] the target : 60\n",
      "when input is [44, 62, 2, 30, 62, 60] the target : 40\n",
      "when input is [44, 62, 2, 30, 62, 60, 40] the target : 69\n",
      "when input is [44, 62, 2, 30, 62, 60, 40, 69] the target : 0\n",
      "when input is [44, 62, 2, 30, 62, 60, 40, 69, 0] the target : 11\n",
      "when input is [44, 62, 2, 30, 62, 60, 40, 69, 0, 11] the target : 54\n",
      "when input is [2] the target : 46\n",
      "when input is [2, 46] the target : 66\n",
      "when input is [2, 46, 66] the target : 31\n",
      "when input is [2, 46, 66, 31] the target : 2\n",
      "when input is [2, 46, 66, 31, 2] the target : 54\n",
      "when input is [2, 46, 66, 31, 2, 54] the target : 69\n",
      "when input is [2, 46, 66, 31, 2, 54, 69] the target : 44\n",
      "when input is [2, 46, 66, 31, 2, 54, 69, 44] the target : 62\n",
      "when input is [2, 46, 66, 31, 2, 54, 69, 44, 62] the target : 2\n",
      "when input is [2, 46, 66, 31, 2, 54, 69, 44, 62, 2] the target : 30\n"
     ]
    }
   ],
   "source": [
    "import torch\n",
    "\n",
    "# Set random seed for reproducibility\n",
    "torch.manual_seed(1337)\n",
    "\n",
    "# Sample data for train_data and val_data (as placeholders)\n",
    "#train_data = torch.arange(100)  # This is just an example: A sequence of numbers from 0 to 99\n",
    "#val_data = torch.arange(100, 120)  # Example validation data\n",
    "\n",
    "batch_size = 6\n",
    "block_size = 10\n",
    "\n",
    "def get_batch(split):\n",
    "    data = train_data if split == \"train\" else val_data\n",
    "    ix = torch.randint(len(data) - block_size, (batch_size,))  # Random indices for batch creation\n",
    "    x = torch.stack([data[i:i + block_size] for i in ix])  # Inputs (x)\n",
    "    y = torch.stack([data[i + 1:i + block_size + 1] for i in ix])  # Targets (y)\n",
    "    return x, y\n",
    "\n",
    "# Get a batch for training\n",
    "xb, yb = get_batch('train')\n",
    "\n",
    "print('inputs:')\n",
    "print(xb.shape)\n",
    "print(xb)\n",
    "print('targets:')\n",
    "print(yb.shape)\n",
    "print(yb)\n",
    "\n",
    "# Iterating over the batch\n",
    "for b in range(batch_size):\n",
    "    for t in range(block_size):\n",
    "        context = xb[b, :t+1]  # Input context (all values till the current position)\n",
    "        target = yb[b, t]  # Target (next value after the context)\n",
    "        print(f\"when input is {context.tolist()} the target : {target.item()}\")\n"
   ]
  },
  {
   "cell_type": "code",
   "execution_count": 17,
   "id": "f5a1daff",
   "metadata": {
    "execution": {
     "iopub.execute_input": "2024-12-13T14:32:20.305529Z",
     "iopub.status.busy": "2024-12-13T14:32:20.305141Z",
     "iopub.status.idle": "2024-12-13T14:32:20.3126Z",
     "shell.execute_reply": "2024-12-13T14:32:20.311331Z"
    },
    "papermill": {
     "duration": 0.017101,
     "end_time": "2024-12-13T14:32:20.314972",
     "exception": false,
     "start_time": "2024-12-13T14:32:20.297871",
     "status": "completed"
    },
    "tags": []
   },
   "outputs": [
    {
     "name": "stdout",
     "output_type": "stream",
     "text": [
      "tensor([[ 2, 25, 52,  2, 78, 50, 64, 44,  2, 46],\n",
      "        [46, 37, 61,  2, 52, 60, 40, 62,  2,  2],\n",
      "        [59, 25, 40, 69,  2, 60, 70,  9,  0, 52],\n",
      "        [64,  2, 51, 60,  2, 25, 63,  2, 25, 63],\n",
      "        [44, 62,  2, 30, 62, 60, 40, 69,  0, 11],\n",
      "        [ 2, 46, 66, 31,  2, 54, 69, 44, 62,  2]])\n"
     ]
    }
   ],
   "source": [
    "print(xb)"
   ]
  },
  {
   "cell_type": "code",
   "execution_count": null,
   "id": "02d60fc8",
   "metadata": {
    "papermill": {
     "duration": 0.005504,
     "end_time": "2024-12-13T14:32:20.326466",
     "exception": false,
     "start_time": "2024-12-13T14:32:20.320962",
     "status": "completed"
    },
    "tags": []
   },
   "outputs": [],
   "source": []
  }
 ],
 "metadata": {
  "kaggle": {
   "accelerator": "none",
   "dataSources": [
    {
     "datasetId": 6289637,
     "sourceId": 10181849,
     "sourceType": "datasetVersion"
    }
   ],
   "dockerImageVersionId": 30804,
   "isGpuEnabled": false,
   "isInternetEnabled": true,
   "language": "python",
   "sourceType": "notebook"
  },
  "kernelspec": {
   "display_name": "zulip",
   "language": "python",
   "name": "python3"
  },
  "language_info": {
   "codemirror_mode": {
    "name": "ipython",
    "version": 3
   },
   "file_extension": ".py",
   "mimetype": "text/x-python",
   "name": "python",
   "nbconvert_exporter": "python",
   "pygments_lexer": "ipython3",
   "version": "3.10.16"
  },
  "papermill": {
   "default_parameters": {},
   "duration": 9.945203,
   "end_time": "2024-12-13T14:32:21.35525",
   "environment_variables": {},
   "exception": null,
   "input_path": "__notebook__.ipynb",
   "output_path": "__notebook__.ipynb",
   "parameters": {},
   "start_time": "2024-12-13T14:32:11.410047",
   "version": "2.6.0"
  }
 },
 "nbformat": 4,
 "nbformat_minor": 5
}
